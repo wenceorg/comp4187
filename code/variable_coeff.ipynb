{
 "cells": [
  {
   "cell_type": "markdown",
   "id": "d68336a6",
   "metadata": {},
   "source": [
    "## 1D Example\n",
    "\n",
    "$$-\\partial_x ( k(x) \\partial_x u) = f,$$\n",
    "\n",
    "\n",
    "#### Higher dimensions\n",
    "The same approach works in higher dimensions, the derivative just need to be taken in each direction. In the coursework example this means that most derivatives for the first summand will drop away."
   ]
  },
  {
   "cell_type": "markdown",
   "id": "faa66bd1",
   "metadata": {},
   "source": [
    "Let's start with the equation for $k(x)=1$\n",
    "\n",
    "In this case:\n",
    "\n",
    "$$f(x) = \\pi^2 \\sin(\\pi x)$$\n",
    "\n",
    "and the exact solution is:\n",
    "\n",
    "$$u^*(x) = \\sin(\\pi x)$$"
   ]
  },
  {
   "cell_type": "code",
   "execution_count": null,
   "id": "8437c2f1",
   "metadata": {},
   "outputs": [],
   "source": [
    "%matplotlib notebook\n",
    "from matplotlib import pyplot\n",
    "import numpy\n",
    "pyplot.style.use('ggplot')\n",
    "\n",
    "N = 100\n",
    "h = 1/(N-1)\n",
    "pi = numpy.pi"
   ]
  },
  {
   "cell_type": "code",
   "execution_count": null,
   "id": "312747e7",
   "metadata": {},
   "outputs": [],
   "source": [
    "def laplacian(N, rhsfunc):\n",
    "    x = numpy.linspace(0, 1, N+1)\n",
    "    h = 1/N\n",
    "    rhs = rhsfunc(x)\n",
    "    e = numpy.ones(N)\n",
    "    # interior discretisation\n",
    "    L = (2*numpy.eye(N+1) - numpy.diag(e, 1) - numpy.diag(e, -1)) / h**2\n",
    "    return x, L, rhs, h"
   ]
  },
  {
   "cell_type": "code",
   "execution_count": null,
   "id": "e118c62e",
   "metadata": {},
   "outputs": [],
   "source": [
    "def apply_dirichlet(L, rhs, h, vals, indices):\n",
    "    N, _ = L.shape\n",
    "    diag = numpy.eye(1, N)\n",
    "    bcmask = numpy.zeros(N, dtype=bool)\n",
    "    bcmask[indices] = True\n",
    "    # Dirichlet rows\n",
    "    L[numpy.ix_(bcmask)] = numpy.vstack([numpy.roll(diag, i) for i in indices])\n",
    "    rhs[numpy.ix_(bcmask)] = vals\n",
    "    # Forward substitute\n",
    "    rhs[numpy.ix_(~bcmask)] -= L[numpy.ix_(~bcmask, bcmask)] @ vals\n",
    "    L[numpy.ix_(~bcmask, bcmask)] = 0\n",
    "    return L, rhs, h"
   ]
  },
  {
   "cell_type": "code",
   "execution_count": null,
   "id": "2067715b",
   "metadata": {},
   "outputs": [],
   "source": [
    "# rhs\n",
    "def f(x):\n",
    "    return pi**2 * numpy.sin(pi*x)\n",
    "\n",
    "# exact\n",
    "def ex(x):\n",
    "    return numpy.sin(pi*x)\n",
    "\n",
    "x, L, rhs, h = laplacian(N, f)\n",
    "L, rhs, h = apply_dirichlet(L, rhs, h, [0,0], [0,N])\n",
    "u = numpy.linalg.solve(L, rhs)"
   ]
  },
  {
   "cell_type": "code",
   "execution_count": null,
   "id": "1d7eb80e",
   "metadata": {},
   "outputs": [],
   "source": [
    "x = numpy.linspace(0,1,N+1)\n",
    "\n",
    "pyplot.figure()\n",
    "pyplot.plot(x,u)\n",
    "pyplot.plot(x,ex(x),'x')\n",
    "pyplot.show()"
   ]
  },
  {
   "cell_type": "code",
   "execution_count": null,
   "id": "c900501a",
   "metadata": {},
   "outputs": [],
   "source": [
    "# Here we use the 2-norm\n",
    "def error(u, exact, h):\n",
    "    return numpy.sqrt(h)*numpy.linalg.norm(u - exact)\n",
    "\n",
    "def mms_errors(exact,rhsfunc):\n",
    "    errors = []\n",
    "    Ns = numpy.asarray(list(2**i for i in range(4, 11)))\n",
    "    for N in Ns:\n",
    "        x, L, rhs, h = laplacian(N, rhsfunc)\n",
    "        L, rhs, h = apply_dirichlet(L, rhs, h, [0,0], [0,N])\n",
    "        u = numpy.linalg.solve(L, rhs)\n",
    "        errors.append(error(u, exact(x), 1/N))\n",
    "    return 1/Ns, numpy.asarray(errors)\n",
    "\n",
    "hs, errors = mms_errors(ex,f)\n",
    "pyplot.figure()\n",
    "pyplot.loglog(hs, errors, \"o\", label=\"Error\");\n",
    "pyplot.loglog(hs, hs, label=\"$\\mathcal{O}(h)$\");\n",
    "pyplot.loglog(hs, hs**2, label=\"$\\mathcal{O}(h^2)$\");\n",
    "pyplot.legend();\n",
    "pyplot.show()"
   ]
  },
  {
   "cell_type": "markdown",
   "id": "9e4a0cee",
   "metadata": {},
   "source": [
    "And now let's try the same thing for the variable coefficient case:\n",
    "\n",
    "Let \n",
    "$$k(x) = \\cos(\\pi x)$$\n",
    "\n",
    "The exact solution remains the same and (in the 3D case) we adjust the right hand side. Discretise by using product rule:\n",
    "\n",
    "$$\\partial_x ( k(x) \\partial_x u) = \\partial_x k(x) \\partial_x u + k \\partial_x^2 u$$\n",
    "\n",
    "So now in addition to the stencil for the laplacian we already have from above we need the stencil for the single derivative and evaluations of $k$ and its derivative at the nodal points."
   ]
  },
  {
   "cell_type": "code",
   "execution_count": null,
   "id": "47b59e34",
   "metadata": {},
   "outputs": [],
   "source": [
    "def operator(N, rhsfunc):\n",
    "    x = numpy.linspace(0, 1, N+1)\n",
    "    h = 1/N\n",
    "    rhs = rhsfunc(x)\n",
    "    e = numpy.ones(N)\n",
    "    # interior discretisation consists of two components\n",
    "    # k * laplacian component\n",
    "    L = numpy.cos(pi * x * h) * (2*numpy.eye(N+1) - numpy.diag(e, 1) - numpy.diag(e, -1)) / h**2\n",
    "    # k' * centered derivative\n",
    "    L+= numpy.sin(pi * x * h) * (numpy.diag(e,-1) - numpy.diag(e,1)) / h    \n",
    "    return x, L, rhs, h"
   ]
  },
  {
   "cell_type": "code",
   "execution_count": null,
   "id": "fe04a390",
   "metadata": {},
   "outputs": [],
   "source": [
    "# rhs\n",
    "def f(x):\n",
    "    return pi**2 *  numpy.sin(pi*x)\n",
    "\n",
    "# exact\n",
    "def ex(x):\n",
    "    return numpy.sin(pi*x)\n",
    "\n",
    "x, L, rhs, h = operator(N, f)\n",
    "L, rhs, h = apply_dirichlet(L, rhs, h, [0,0], [0,N])\n",
    "unum = numpy.linalg.solve(L, rhs)"
   ]
  },
  {
   "cell_type": "code",
   "execution_count": null,
   "id": "aa65464b",
   "metadata": {},
   "outputs": [],
   "source": [
    "x = numpy.linspace(0,1,N+1)\n",
    "pyplot.figure()\n",
    "pyplot.plot(x,unum)\n",
    "pyplot.plot(x,ex(x),'x')\n",
    "pyplot.show()"
   ]
  },
  {
   "cell_type": "code",
   "execution_count": null,
   "id": "1aa85950",
   "metadata": {},
   "outputs": [],
   "source": [
    "# Here we use the 2-norm\n",
    "def error(u, exact, h):\n",
    "    return numpy.sqrt(h)*numpy.linalg.norm(u - exact)\n",
    "\n",
    "def mms_errors(exact,rhsfunc):\n",
    "    errors = []\n",
    "    Ns = numpy.asarray(list(2**i for i in range(4, 11)))\n",
    "    for N in Ns:\n",
    "        x, L, rhs, h = laplacian(N, rhsfunc)\n",
    "        L, rhs, h = apply_dirichlet(L, rhs, h, [0,0], [0,N])\n",
    "        u = numpy.linalg.solve(L, rhs)\n",
    "        errors.append(error(u, exact(x), 1/N))\n",
    "    return 1/Ns, numpy.asarray(errors)\n",
    "\n",
    "hs, errors = mms_errors(ex,f)\n",
    "pyplot.figure()\n",
    "pyplot.loglog(hs, errors, \"o\", label=\"Error\");\n",
    "pyplot.loglog(hs, hs, label=\"$\\mathcal{O}(h)$\");\n",
    "pyplot.loglog(hs, hs**2, label=\"$\\mathcal{O}(h^2)$\");\n",
    "pyplot.legend();"
   ]
  },
  {
   "cell_type": "markdown",
   "id": "48c47e26",
   "metadata": {},
   "source": [
    "Similarly, instead of the direct solve we could solve by using an explicit Euler method"
   ]
  },
  {
   "cell_type": "code",
   "execution_count": null,
   "id": "b4dabf84",
   "metadata": {},
   "outputs": [],
   "source": [
    "def explicit_euler(u0, L, dt, T=500):\n",
    "    us = [u0]\n",
    "    ts = [0]\n",
    "    update = numpy.zeros_like(u0)\n",
    "    import copy\n",
    "    u = copy.copy(u0)\n",
    "    t = 0 \n",
    "    while t < T:\n",
    "        update = rhs - L @ u\n",
    "        if numpy.linalg.norm(update, numpy.inf) < 1e-8:\n",
    "            print(\"Equilibrium reached at t=\",t)\n",
    "            # Terminate if we've reached a steady-state\n",
    "            break\n",
    "        # Explicit Euler: u <- u + dt f(u)\n",
    "        u += dt*update\n",
    "        us.append(u)\n",
    "        t += dt\n",
    "        ts.append(t)\n",
    "    return ts, us\n",
    "\n",
    "u0 = numpy.zeros(N+1)\n",
    "# You'll need a very small time step for this one\n",
    "ts, us = explicit_euler(u0, L, 0.00001, T=3.0)"
   ]
  },
  {
   "cell_type": "code",
   "execution_count": null,
   "id": "3b45a437",
   "metadata": {},
   "outputs": [],
   "source": [
    "x = numpy.linspace(0,1,N+1)\n",
    "pyplot.figure()\n",
    "pyplot.plot(x,us[-1])\n",
    "pyplot.plot(x,ex(x),'x')\n",
    "pyplot.show()"
   ]
  },
  {
   "cell_type": "code",
   "execution_count": null,
   "id": "1bcedfad",
   "metadata": {},
   "outputs": [],
   "source": []
  }
 ],
 "metadata": {
  "kernelspec": {
   "display_name": "Python 3 (ipykernel)",
   "language": "python",
   "name": "python3"
  },
  "language_info": {
   "codemirror_mode": {
    "name": "ipython",
    "version": 3
   },
   "file_extension": ".py",
   "mimetype": "text/x-python",
   "name": "python",
   "nbconvert_exporter": "python",
   "pygments_lexer": "ipython3",
   "version": "3.8.10"
  }
 },
 "nbformat": 4,
 "nbformat_minor": 5
}
