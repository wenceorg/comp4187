{
 "cells": [
  {
   "cell_type": "markdown",
   "metadata": {},
   "source": [
    "# A recap on measuring distances\n",
    "\n",
    "First a brief revision on vector spaces and norms.\n",
    "\n",
    "## Vector spaces\n",
    "\n",
    "A real *vector space* $V$ is a set endowed with two operations\n",
    "\n",
    "1. *addition*: $(x, y) \\in V \\times V \\to (x + y) \\in V$\n",
    "2. *scalar multiplication*: $(\\alpha, x) \\in \\mathbb{R} \\times V \\to \\alpha x \\in V$\n",
    "\n",
    "that obey the following axioms\n",
    "\n",
    "1. associativity of addition: $x + (y + z) = (x + y) + z \\text{ for all } x, y, z \\in V$;\n",
    "2. commutativity of addition: $x + y = y + x \\text{ for all } x, y \\in V$;\n",
    "3. identity for addition: $\\text{there exists } 0 \\in V \\text{ such that } x + 0 = x \\text{ for all } x \\in V$;\n",
    "4. additive inverse: $\\text{there exists an element } -x \\in V \\text{ such that }x + (-x) = 0 \\text{ for all } x \\in V$;\n",
    "5. compatibility: $\\alpha(\\beta x) = (\\alpha\\beta)x \\text{ for all } \\alpha, \\beta \\in \\mathbb{R}, x \\in V$;\n",
    "6. Identity for multiplication: $\\text{there exists } 1 \\in \\mathbb{R} \\text{ such that } 1 x = x \\text{ for all } x \\in V$;\n",
    "7. Distribution of multiplication over addition: $a(x + y) = ax + ay$;\n",
    "8. Distribution of addition over multiplication: $(a + b)x = ax + bx$;\n",
    "\n",
    "This is a rather abstract definition, the familiar example is just Euclidean vectors in $\\mathbb{R}^n$ (which is a vector space). In this case, addition is pointwise addition of components, and multiplication is multiplication of all components by a scalar.\n",
    "\n",
    "As another example, the set $\\operatorname{span} \\{1, x, x^2\\}$ of polynomials is a vector space where addition is the familiar addition, and multiplication is the familiar multiplication.\n",
    "\n",
    "## Norms on vector spaces\n",
    "\n",
    "A *norm* on a vector space $V$ is any mapping $\\|\\cdot\\| : V \\to \\mathbb{R}$ that satisfies\n",
    "\n",
    "$$\n",
    "\\begin{aligned}\n",
    "\\|x \\| &\\ge 0 && \\text{for all } x \\in V \\text{ and } \\|x\\| = 0 \\text{ if and only if } x = 0\\\\\n",
    "\\|\\alpha x\\| &= |\\alpha|\\|x\\| && \\text{for all } \\alpha \\in \\mathbb{R}, x \\in V\\\\\n",
    "\\|x + y\\| &\\le \\|x\\| + \\|y\\| && \\text{for all } x, y \\in V.\n",
    "\\end{aligned}\n",
    "$$\n",
    "\n",
    "Again, this is a rather abstract definition, it formalises an idea of distance. Thinking of our Euclidean space with $x \\in \\mathbb{R}^n$, the norm we are perhaps most familiar with is the 2-norm\n",
    "\n",
    "\n",
    "$$\n",
    "\\| x \\|_2 = \\sqrt{\\sum_i^n |x_i|^2}.\n",
    "$$\n",
    "\n",
    "This measure the distance in a straight line between two points in $\\mathbb{R}^n$. The 1-norm (sometimes called the Manhattan norm) measures the distance if I can only walk along the unit vectors\n",
    "\n",
    "$$\n",
    "\\|x\\|_1 = \\sum_i^n |x_i|.\n",
    "$$\n",
    "\n",
    "The $\\infty$-norm (or max-norm) measures the maximum distance between the projection onto each of the unit vectors in turn\n",
    "\n",
    "$$\n",
    "\\|x\\|_\\infty = \\max_{0 < i \\le n} |x_i|.\n",
    "$$\n",
    "\n",
    "These are special cases of $l_p$-norms\n",
    "\n",
    "$$\n",
    "\\|x\\|_p = \\left( \\sum_i^n |x_i|^p \\right)^{\\frac{1}{p}}\n",
    "$$"
   ]
  },
  {
   "cell_type": "code",
   "execution_count": null,
   "metadata": {},
   "outputs": [],
   "source": [
    "%matplotlib inline\n",
    "import numpy\n",
    "from matplotlib import pyplot\n",
    "\n",
    "\n",
    "def plot_norm_ball(p):\n",
    "    x = numpy.linspace(-3, 3, 101)\n",
    "    x, y = numpy.meshgrid(x, x)\n",
    "    z = numpy.dstack([x, y])\n",
    "    if p == \"inf\":\n",
    "        p = r\"\\infty\"\n",
    "        z = numpy.linalg.norm(z, numpy.inf, axis=2)\n",
    "    else:\n",
    "        z = numpy.linalg.norm(z, p, axis=2)\n",
    "    pyplot.figure()\n",
    "    C = pyplot.contourf(x, y, z, numpy.linspace(0, 1, 2), cmap=pyplot.cm.coolwarm)\n",
    "    \n",
    "    pyplot.contour(x, y, z, numpy.linspace(0, 1, 2), colors='k')\n",
    "    pyplot.xlabel(\"x\")\n",
    "    pyplot.ylabel(\"y\")\n",
    "    pyplot.title(f\"Unit ball in $l_{p}$-norm\")\n",
    "    pyplot.gca().set_aspect(\"equal\")\n",
    "    return pyplot.gcf()"
   ]
  },
  {
   "cell_type": "markdown",
   "metadata": {},
   "source": [
    "The $1$-norm is how you measure distance when walking in Manhattan: you can only walk along grid lines.\n",
    "\n",
    "<img src=\"https://1igc0ojossa412h1e3ek8d1w-wpengine.netdna-ssl.com/wp-content/uploads/2017/10/ht_nylm_1.jpg\" width=\"400px\" />"
   ]
  },
  {
   "cell_type": "code",
   "execution_count": null,
   "metadata": {},
   "outputs": [],
   "source": [
    "plot_norm_ball(1);"
   ]
  },
  {
   "cell_type": "markdown",
   "metadata": {},
   "source": [
    "The 2-norm is what you use when deciding to walk across the grass\n",
    "\n",
    "<img src=\"https://i.imgur.com/JIXACph.jpg\" width=\"600px\" />"
   ]
  },
  {
   "cell_type": "code",
   "execution_count": null,
   "metadata": {},
   "outputs": [],
   "source": [
    "plot_norm_ball(2);"
   ]
  },
  {
   "cell_type": "markdown",
   "metadata": {},
   "source": [
    "[Piet Hein](https://en.wikipedia.org/wiki/Piet_Hein_(scientist)) advocated $p>2$-norms as pleasing shapes for architectural structures, and furniture.\n",
    "\n",
    "<img src=\"https://www.skanska.se/globalassets/externalcontent2/project/sergels-torg-stockholm/857a0ed8-23fc-4353-bfea-097863e67cd0.1.jpg\" width=\"600px\" />"
   ]
  },
  {
   "cell_type": "code",
   "execution_count": null,
   "metadata": {},
   "outputs": [],
   "source": [
    "plot_norm_ball(2.75);"
   ]
  },
  {
   "cell_type": "markdown",
   "metadata": {},
   "source": [
    "The $\\max$-norm or $\\infty$-norm measures the largest pointwise size in a vector."
   ]
  },
  {
   "cell_type": "code",
   "execution_count": null,
   "metadata": {},
   "outputs": [],
   "source": [
    "plot_norm_ball(\"inf\");"
   ]
  },
  {
   "cell_type": "markdown",
   "metadata": {},
   "source": [
    "## Norms in finite differences\n",
    "\n",
    "Notice that the definitions above didn't have an $h$ in them, so they're not quite the same as the ones we had for our finite difference norms.\n",
    "\n",
    "$$\n",
    "\\|x\\|_p = \\left(h \\sum_{i} |x_i|^p \\right)^{\\frac{1}{p}}.\n",
    "$$\n",
    "\n",
    "(Notice the extra $h^{1/p}$ scaling term). This is required so that a finer discretisation does not change the \"size\" of the vector when we think of it representing a function on our grid.\n",
    "\n",
    "What's happening here is that the grid-function norm is actually an approximation to the $L_p$ norm\n",
    "\n",
    "$$\n",
    "\\|x\\|_{L_p} = \\left(\\int_\\Omega |x|^p \\text{d} x\\right)^{\\frac{1}{p}}\n",
    "$$\n",
    "\n",
    "when approximating this with a finite-difference function, each value is associated with a little volume that is the size of the cell around it (in 1D $h$, in 2D $h^2$).\n",
    "\n",
    "For example, consider a discretisation of the constant function $f(x) = 1$ on a unit interval discretised with 10 points and then 100 points."
   ]
  },
  {
   "cell_type": "code",
   "execution_count": null,
   "metadata": {},
   "outputs": [],
   "source": [
    "f10 = numpy.full(10, 1)\n",
    "f100 = numpy.full(100, 1)"
   ]
  },
  {
   "cell_type": "code",
   "execution_count": null,
   "metadata": {},
   "outputs": [],
   "source": [
    "# Normal 2-norm\n",
    "numpy.linalg.norm(f10, 2), numpy.linalg.norm(f100, 2)"
   ]
  },
  {
   "cell_type": "code",
   "execution_count": null,
   "metadata": {},
   "outputs": [],
   "source": [
    "# grid 2-norm\n",
    "numpy.sqrt(1/10)*numpy.linalg.norm(f10, 2), numpy.sqrt(1/100)*numpy.linalg.norm(f100, 2)"
   ]
  },
  {
   "cell_type": "markdown",
   "metadata": {},
   "source": [
    "Notice how the latter norm measures the size of the vector in a way we \"expect\". Given that we're representing the function 1, it's size should come out as 1, and not depend on how fine the grid is."
   ]
  },
  {
   "cell_type": "code",
   "execution_count": null,
   "metadata": {},
   "outputs": [],
   "source": []
  }
 ],
 "metadata": {
  "kernelspec": {
   "display_name": "Python 3",
   "language": "python",
   "name": "python3"
  },
  "language_info": {
   "codemirror_mode": {
    "name": "ipython",
    "version": 3
   },
   "file_extension": ".py",
   "mimetype": "text/x-python",
   "name": "python",
   "nbconvert_exporter": "python",
   "pygments_lexer": "ipython3",
   "version": "3.7.4"
  }
 },
 "nbformat": 4,
 "nbformat_minor": 2
}
