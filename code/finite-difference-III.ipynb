{
 "cells": [
  {
   "cell_type": "code",
   "execution_count": 1,
   "metadata": {},
   "outputs": [],
   "source": [
    "%matplotlib inline\n",
    "import numpy as np\n",
    "\n",
    "import scipy\n",
    "import scipy.special as special\n",
    "import scipy.sparse as sp\n",
    "import scipy.sparse.linalg as splinalg\n",
    "\n",
    "import sys\n",
    "sys.path.append(\"src/\")\n",
    "\n",
    "import quadtree\n",
    "import plotter\n",
    "import fem\n",
    "import geometry as geo"
   ]
  },
  {
   "cell_type": "markdown",
   "metadata": {},
   "source": [
    "# Time-dependent PDEs\n",
    "\n",
    "So far we've seen ODEs, and looked at time-integration techniques, and then PDEs but we mostly focused on stationary problems. Now we will combine the two and look at time-dependent PDEs. As a model problem we will consider the [*heat equation*](https://en.wikipedia.org/wiki/Heat_equation) which models the diffusion of heat in a material with some given thermal conductivity\n",
    "\n",
    "$$\n",
    "\\partial_t u - \\alpha \\nabla^2 u = 0\n",
    "$$\n",
    "\n",
    "augmented with appropriate initial and boundary conditions. We will look at both implicit and explicit time integration schemes for this equation, starting with explicit schemes.\n",
    "\n",
    "## An explicit scheme\n",
    "\n",
    "We will first discretise the time derivative. Recall the general form of an ODE is\n",
    "\n",
    "$$\n",
    "\\partial_t u = f(t, u)\n",
    "$$\n",
    "\n",
    "where here we have\n",
    "\n",
    "$$\n",
    "f(t, u) = \\alpha \\nabla^2 u.\n",
    "$$\n",
    "\n",
    "In an explicit scheme, we evaluate $f(u)$ at the beginning of the timestep. We'll start with explicit Euler\n",
    "\n",
    "$$\n",
    "u^{n+1} = u^n + \\Delta t \\alpha \\nabla^2 u^n.\n",
    "$$\n",
    "\n",
    "So given an initial condition $u^0$ we just need to be able to compute $\\alpha \\nabla^2 u^0$ and add it on to get the value at the next timestep.\n",
    "\n",
    "Let's solve this problem on the square domain $\\Omega = [0, 1] \\times [0, 1]$ with the boundary conditions\n",
    "\n",
    "$$\n",
    "\\begin{aligned}\n",
    "u &= 1 && x = 0, y \\in [0.25, 0.75]\\\\\n",
    "u &= 0 && x = 1, y \\in [0.6, 0.8]\\\\\n",
    "\\nabla u \\cdot n &= 0 && \\text{otherwise}.\n",
    "\\end{aligned}\n",
    "$$\n",
    "\n",
    "We can think of this as modelling a 2D room with a radiator on one wall, a window on the other, and perfectly insulating (ha!) walls everywhere else."
   ]
  },
  {
   "cell_type": "code",
   "execution_count": 2,
   "metadata": {},
   "outputs": [],
   "source": [
    "def is_dirichlet(vertex):\n",
    "    if vertex[0] > 1.0-1e-8 and 0.25<=vertex[1]<=0.75:\n",
    "        return True\n",
    "    if vertex[0] < 1e-8 and 0.6<=vertex[1]<=0.8:\n",
    "        return True\n",
    "    return False\n",
    "\n",
    "def dirichlet_val(vertex,hx,hy):\n",
    "    if vertex[0] < hx:\n",
    "        return 1.0\n",
    "    return 0.0"
   ]
  },
  {
   "cell_type": "code",
   "execution_count": 3,
   "metadata": {
    "scrolled": true
   },
   "outputs": [
    {
     "data": {
      "text/plain": [
       "<matplotlib.lines.Line2D at 0x7f6474f41040>"
      ]
     },
     "execution_count": 3,
     "metadata": {},
     "output_type": "execute_result"
    },
    {
     "data": {
      "image/png": "[encoded data removed]",
      "text/plain": [
       "<Figure size 432x288 with 1 Axes>"
      ]
     },
     "metadata": {
      "needs_background": "light"
     },
     "output_type": "display_data"
    }
   ],
   "source": [
    "level = 3\n",
    "geometry = geo.Geometry(5,is_dirichlet)\n",
    "discretization = fem.Discretization(geometry,level=level,eval_k=lambda x,y: 1)\n",
    "stiffness = discretization.setup_stiffness(True)\n",
    "\n",
    "#print(stiffness.todense())\n",
    "\n",
    "import matplotlib.pylab as plt\n",
    "plt.spy(stiffness)"
   ]
  },
  {
   "cell_type": "markdown",
   "metadata": {},
   "source": [
    "Now we're ready to integrate the equation, let's try on a relatively coarse grid.;"
   ]
  },
  {
   "cell_type": "code",
   "execution_count": 71,
   "metadata": {},
   "outputs": [],
   "source": [
    "def f(u):\n",
    "    f_ = - stiffness @ u\n",
    "    for cell in geometry.grid.dfs(discretization.level):\n",
    "        for lin, vertex in enumerate(cell.vertices):\n",
    "            if vertex in discretization.cur_dirichlet_vertices:\n",
    "                # Dirichlet vertices not contained in update\n",
    "                f_[vertex] = 0.0\n",
    "    return f_\n",
    "\n",
    "def explicit_euler(u0, dt, T=500):\n",
    "    us = [u0]\n",
    "    ts = [0]\n",
    "    update = np.zeros_like(u0)\n",
    "    import copy\n",
    "    u = copy.copy(u0)\n",
    "    t = 0 \n",
    "    while t < T:\n",
    "        update = f(u)\n",
    "        if np.linalg.norm(update, np.inf) < 1e-8:\n",
    "            print(\"Equilibrium reached at t=\",t)\n",
    "            # Terminate if we've reached a steady-state\n",
    "            break\n",
    "        # Explicit Euler: u <- u + dt f(u)\n",
    "        u += dt*update\n",
    "        us.append(u)\n",
    "        t += dt\n",
    "        ts.append(t)\n",
    "    return ts, us"
   ]
  },
  {
   "cell_type": "code",
   "execution_count": 72,
   "metadata": {},
   "outputs": [],
   "source": [
    "dt = 0.13\n",
    "u0 = discretization.setup_initial()\n",
    "ts, us = explicit_euler(u0, dt, T=10.0)"
   ]
  },
  {
   "cell_type": "code",
   "execution_count": 73,
   "metadata": {},
   "outputs": [
    {
     "name": "stdout",
     "output_type": "stream",
     "text": [
      "0.0\n",
      "1.0\n"
     ]
    },
    {
     "data": {
      "image/png": "[encoded data removed]",
      "text/plain": [
       "<Figure size 1296x576 with 4 Axes>"
      ]
     },
     "metadata": {
      "needs_background": "light"
     },
     "output_type": "display_data"
    }
   ],
   "source": [
    "print(min(us[-1]))\n",
    "print(max(us[-1]))\n",
    "\n",
    "geo.plot_solution(geometry=geometry, discretization=discretization, dirichlet_val=dirichlet_val, sol=us[-1], level=level)"
   ]
  },
  {
   "cell_type": "markdown",
   "metadata": {},
   "source": [
    "This looks like the solution I'm expecting, but the timestep is *very* small. Let's see what happens when we make the timestep bigger."
   ]
  },
  {
   "cell_type": "code",
   "execution_count": 7,
   "metadata": {},
   "outputs": [],
   "source": [
    "dt = 0.14\n",
    "u0 = discretization.setup_initial()\n",
    "ts, us = explicit_euler(u0, dt, T=10.0)"
   ]
  },
  {
   "cell_type": "code",
   "execution_count": 8,
   "metadata": {},
   "outputs": [
    {
     "data": {
      "image/png": "[encoded data removed]",
      "text/plain": [
       "<Figure size 1296x576 with 4 Axes>"
      ]
     },
     "metadata": {
      "needs_background": "light"
     },
     "output_type": "display_data"
    }
   ],
   "source": [
    "geo.plot_solution(geometry=geometry, discretization=discretization, dirichlet_val=dirichlet_val, sol=us[-1], level=level)"
   ]
  },
  {
   "cell_type": "markdown",
   "metadata": {},
   "source": [
    "## Instability for large timesteps\n",
    "\n",
    "Uh-oh, this looks bad. What's going on? We have hit the [CFL](https://en.wikipedia.org/wiki/Courant–Friedrichs–Lewy_condition) constraint for this PDE.\n",
    "\n",
    "This property of a timestepping scheme, named after three mathematicians, Courant, Friedrichs, and Lewy, provides us with a rule for determining an appropriate maximum timestep given a particular spatial discretisation. An intuition for what is going on is that the *physical* equation has some domain of dependence. A region of the solution at time $t$ affects some other region of the solution at $t + \\Delta t$. If our numerical scheme fails to capture this dependence, we get bad behaviour.\n",
    "\n",
    "In other words, if we pick a timestep that is too large, information can propagate \"too fast\" in our numerical simulation.\n",
    "\n",
    "The CFL condition was developed in the analysis of advection equations\n",
    "\n",
    "$$\n",
    "\\partial_t u - w \\cdot \\nabla u = 0.\n",
    "$$\n",
    "\n",
    "For which we have the constraint (with $w = 1$)\n",
    "\n",
    "$$\n",
    "\\frac{\\Delta t}{\\Delta x} \\le 1.\n",
    "$$\n",
    "\n",
    "That is, I can't push information more than a single cell in one timestep.\n",
    "\n",
    "For the heat equation, the restriction is much tighter, we need\n",
    "\n",
    "$$\n",
    "\\frac{\\Delta t}{(\\Delta x)^2} \\le c\n",
    "$$\n",
    "\n",
    "with $c$ some (dimension-dependent) constant. In two dimensions, for explicit Euler, we have $c = 0.25$."
   ]
  },
  {
   "cell_type": "markdown",
   "metadata": {},
   "source": [
    "### Eigenvalue analysis\n",
    "\n",
    "How did I arrive at this magic constant? Recall that the *stability region* for explicit Euler is the unit circle centred at -1 in the complex plane. A necessary condition for stability of the timestepping scheme applied to the scalar Dahlquist test equation\n",
    "\n",
    "$$\n",
    "\\partial_t u = \\lambda u\n",
    "$$\n",
    "\n",
    "which, discretised with explicit Euler gives\n",
    "\n",
    "$$\n",
    "u^{n+1} = u^n + \\lambda\\Delta t u^n,\n",
    "$$\n",
    "\n",
    "is that $-2 \\le \\lambda \\Delta t < 0$.\n",
    "\n",
    "How can we apply this same idea here, when we have\n",
    "\n",
    "$$\n",
    "\\partial_t u = \\nabla^2 u\n",
    "$$\n",
    "\n",
    "or, discretised\n",
    "\n",
    "$$\n",
    "u^{n+1} = u^n + \\Delta t \\nabla^2 u^n\n",
    "$$\n",
    "\n",
    "For this operator, we can find the bound by considering the *eigenvalues* of $\\nabla^2$. If we can find them, we can replace the discretised operator by a diagonal one (with the eigenvalues on the diagonal), and then treat each equation separately.\n",
    "\n",
    "Let's go ahead and discretise $\\nabla^2$ and look at the eigenvalues."
   ]
  },
  {
   "cell_type": "code",
   "execution_count": 9,
   "metadata": {},
   "outputs": [
    {
     "data": {
      "text/plain": [
       "array([ -0.219185  ,  -0.56824837,  -0.84906817,  -1.02536157,\n",
       "        -1.54261175,  -1.74575145,  -1.96127264, -15.34058922,\n",
       "       -15.27779535, -14.83645724,  -2.44858637,  -2.78649551,\n",
       "       -14.81563932,  -2.93130822,  -3.52627586, -14.11598773,\n",
       "       -14.08021888,  -3.73716001, -14.01006757,  -3.99169027,\n",
       "        -4.25777836, -13.76949536, -13.67826329,  -4.32676674,\n",
       "       -13.49829048,  -4.39575803,  -4.79505637,  -5.12282512,\n",
       "        -5.10254429, -13.24737304, -13.13543153, -13.20260364,\n",
       "       -13.19157047,  -5.47339937,  -8.57593951,  -8.7878367 ,\n",
       "        -9.32073121, -12.66036609, -12.63666556,  -9.47536769,\n",
       "        -9.7485064 ,  -7.53212969, -10.10131628, -10.21925247,\n",
       "        -5.84584962,  -5.85304453,  -5.97555373, -12.36437863,\n",
       "        -7.22030184,  -6.16353387, -12.30638479, -10.93443563,\n",
       "        -6.28246357,  -6.29795204, -11.06700034, -12.17783283,\n",
       "        -6.56314205,  -6.66899204,  -6.64298995, -12.16440869,\n",
       "        -6.863253  , -11.36236818, -11.99372786, -11.96242785,\n",
       "       -11.9058562 , -11.55849614, -11.71867901,  -6.85703458,\n",
       "       -11.5937033 , -11.84183682, -11.80145618, -11.61138752,\n",
       "       -11.83714216, -11.8326622 ,  -0.        ,  -0.        ,\n",
       "        -0.        ,  -0.        ,  -0.        ,  -0.        ,\n",
       "        -0.        ])"
      ]
     },
     "execution_count": 9,
     "metadata": {},
     "output_type": "execute_result"
    }
   ],
   "source": [
    "stiffness = discretization.setup_stiffness(True)\n",
    "A = - stiffness.todense()\n",
    "evals = np.linalg.eigvals(A)\n",
    "evals"
   ]
  },
  {
   "cell_type": "markdown",
   "metadata": {},
   "source": [
    "We're interested in the *smallest* (most negative) eigenvalue and we need, when multiplying this by $\\Delta t$ to arrive at a number larger than -2. Which implies"
   ]
  },
  {
   "cell_type": "code",
   "execution_count": 10,
   "metadata": {},
   "outputs": [
    {
     "data": {
      "text/plain": [
       "0.13037308872614"
      ]
     },
     "execution_count": 10,
     "metadata": {},
     "output_type": "execute_result"
    }
   ],
   "source": [
    "dt = -2/evals.min()\n",
    "dt"
   ]
  },
  {
   "cell_type": "markdown",
   "metadata": {},
   "source": [
    "So $\\Delta t = 0.13$ is right on the edge of stability for our method (hence the problem blowing up with $\\Delta t = 0.14$).\n",
    "\n",
    "What is the relationship we need between $\\Delta x$ and $\\Delta t$? The most negative eigenvalue scales with $\\frac{1}{(\\Delta x)^2}$, and so we need\n",
    "\n",
    "$$\n",
    "\\frac{\\Delta t}{(\\Delta x)^2} = \\text{const}.\n",
    "$$\n",
    "\n",
    "Each time we double the spatial resolution we must reduce the timestep by a factor of four!\n",
    "\n",
    "### Bounding the eigenvalues of a regular stencil\n",
    "\n",
    "For the stencils we see in the course (and the FEM stiffness matrix used here), we can put a bound on the eigenvalues (and in particular the smallest one) using a remarkable theorem due to [Gershgorin](https://en.wikipedia.org/wiki/Gershgorin_circle_theorem).\n",
    "\n",
    "For *any* square matrix $A$ with entries $a_{ij}$, write\n",
    "\n",
    "$$\n",
    "R_i = \\sum_{j \\ne i} |a_{ij}|\n",
    "$$\n",
    "\n",
    "(the sum of the absolute value of the off-diagonal entries), and define the disc\n",
    "\n",
    "$$\n",
    "D(a_{ii}, R_i) = \\{z \\in \\mathbb{C} : |z - a_{ii}| \\le R_i\\}\n",
    "$$\n",
    "\n",
    "(that is, a circle centered at $a_{ii}$ with radius $R_i$).\n",
    "\n",
    "Then every eigenvalue of $A$ is contained in at least one of these discs."
   ]
  },
  {
   "cell_type": "code",
   "execution_count": 11,
   "metadata": {},
   "outputs": [],
   "source": [
    "from matplotlib import pyplot\n",
    "from matplotlib.patches import Circle\n",
    "from matplotlib.collections import PatchCollection\n",
    "\n",
    "def gershgorin(A):\n",
    "    n = len(A)\n",
    "    evals = np.linalg.eigvals(A)\n",
    "    patches = []\n",
    "    # draw discs\n",
    "    seen = set()\n",
    "    for i in range(n):\n",
    "        xi = np.real(A[i,i])\n",
    "        yi = np.imag(A[i,i])\n",
    "        ri = np.sum(np.abs(A[i,:])) - np.abs(A[i,i]) \n",
    "        if (xi, yi, ri) in seen:\n",
    "            continue\n",
    "        circle = Circle((xi, yi), ri)\n",
    "        patches.append(circle)\n",
    "        seen.add((xi, yi, ri))\n",
    "    fig, ax = pyplot.subplots()\n",
    "    ax.set_xlim([-0.2,0.0])\n",
    "    p = PatchCollection(patches, alpha=0.1)\n",
    "    ax.add_collection(p)\n",
    "    pyplot.plot(np.real(evals), np.imag(evals),' o')\n",
    "    pyplot.axis('equal')\n",
    "    pyplot.show()\n",
    "    return fig"
   ]
  },
  {
   "cell_type": "code",
   "execution_count": 12,
   "metadata": {},
   "outputs": [
    {
     "data": {
      "image/png": "[encoded data removed]",
      "text/plain": [
       "<Figure size 432x288 with 1 Axes>"
      ]
     },
     "metadata": {
      "needs_background": "light"
     },
     "output_type": "display_data"
    }
   ],
   "source": [
    "gershgorin(A);"
   ]
  },
  {
   "cell_type": "markdown",
   "metadata": {},
   "source": [
    "We can see that this isn't a very good estimate of many of the eigenvalues, but it's quite good for the minimal one.\n",
    "\n",
    "So, if I give you a stencil\n",
    "\n",
    "$$\n",
    "\\frac{1}{h_x^2}\\begin{bmatrix}-1 & 2 & -1\\end{bmatrix}\n",
    "$$\n",
    "\n",
    "we can immediately say that the maximal eigenvalue will be less than or equal to $\\frac{4}{h_x^2}$, and the minimal one will be greater than or equal to zero."
   ]
  },
  {
   "cell_type": "code",
   "execution_count": 13,
   "metadata": {},
   "outputs": [
    {
     "data": {
      "image/png": "[encoded data removed]",
      "text/plain": [
       "<Figure size 432x288 with 1 Axes>"
      ]
     },
     "metadata": {
      "needs_background": "light"
     },
     "output_type": "display_data"
    }
   ],
   "source": [
    "example = np.asarray([[5., 3., 2.], \n",
    "                         [4., 6., 5.],\n",
    "                         [-3., 1., 4.]])\n",
    "gershgorin(example);"
   ]
  },
  {
   "cell_type": "markdown",
   "metadata": {},
   "source": [
    "## Breaking through the timestep restriction\n",
    "\n",
    "Our only chance of being able to take larger timesteps is to increase the size of the stability region. We can try and do so with explicit methods, but we will *always* run into the timestep constraint eventually (since no explicit method contains an unbounded stability region.\n",
    "\n",
    "Instead, we turn to *implicit* methods. We're now going to have to invert the operator at every timestep, hence our interest in different methods for doing so. We'll do implicit Euler first, for which the discretised problem looks like\n",
    "\n",
    "$$\n",
    "\\mathbb{I} u^{n+1} - \\Delta t \\nabla^2 u^{n+1} = u^n.\n",
    "$$\n",
    "\n",
    "Rearranging, we obtain\n",
    "\n",
    "$$\n",
    "u^{n+1} = (\\mathbb{I} - \\Delta t \\nabla^2)^{-1} u^n\n",
    "$$\n",
    "\n",
    "so our update step is to invert an operator onto the old state, rather than applying the operator to the state.\n",
    "\n",
    "To start with let's use a direct solver:"
   ]
  },
  {
   "cell_type": "code",
   "execution_count": 69,
   "metadata": {},
   "outputs": [],
   "source": [
    "def implicit_euler(u0, dt, stiffness, T=10):\n",
    "    A = - stiffness.todense()\n",
    "    I = np.eye(len(A))\n",
    "    op = I - dt*A\n",
    "    lu, piv = scipy.linalg.lu_factor(op)\n",
    "    t = 0\n",
    "    us = [u0]\n",
    "    ts = [t]\n",
    "    u = u0\n",
    "    while t < T:\n",
    "        u = scipy.linalg.lu_solve((lu, piv), u.flat).reshape(u.shape)\n",
    "        t += dt\n",
    "        us.append(u)\n",
    "        ts.append(t)\n",
    "        if np.linalg.norm(us[-2] - us[-1], np.inf) < 1e-8:\n",
    "            print(\"Equilibrium reached at t=\", t)\n",
    "            break\n",
    "    return ts, us"
   ]
  },
  {
   "cell_type": "code",
   "execution_count": 74,
   "metadata": {},
   "outputs": [],
   "source": [
    "dt = 2.0\n",
    "u0 = discretization.setup_initial()\n",
    "ts, us = implicit_euler(u0, dt, stiffness, T=10)"
   ]
  },
  {
   "cell_type": "code",
   "execution_count": 75,
   "metadata": {},
   "outputs": [
    {
     "data": {
      "image/png": "[encoded data removed]",
      "text/plain": [
       "<Figure size 1296x576 with 4 Axes>"
      ]
     },
     "metadata": {
      "needs_background": "light"
     },
     "output_type": "display_data"
    }
   ],
   "source": [
    "geo.plot_solution(geometry=geometry, discretization=discretization, dirichlet_val=dirichlet_val, sol=us[-1], level=level)"
   ]
  },
  {
   "cell_type": "markdown",
   "metadata": {},
   "source": [
    "As we have seen in previous lectures, this is not a very efficient method for inverting the matrix. So instead let us apply the multigrid solver we have derived.\n",
    "\n",
    "We know that the grid does not change, so we can set up all the necessary operators in advance and then simply apply them in each time-step.\n",
    "\n",
    "Let's set up the components we need starting with a smoother."
   ]
  },
  {
   "cell_type": "code",
   "execution_count": 76,
   "metadata": {},
   "outputs": [],
   "source": [
    "def relaxation(A, b, x0, max_iter):\n",
    "    diagonal_part = sp.diags(A.diagonal())\n",
    "    diagonal_part_inv = sp.diags(1/A.diagonal())\n",
    "    rest = A - diagonal_part\n",
    "    x = x0\n",
    "    for i in range(max_iter):\n",
    "        x = diagonal_part_inv @ (b - rest @ x)\n",
    "    return x"
   ]
  },
  {
   "cell_type": "markdown",
   "metadata": {},
   "source": [
    "Next we define our interpolation and restriction operators. Again a modification is needed in order to allow non-zero Dirichlet boundary conditions."
   ]
  },
  {
   "cell_type": "code",
   "execution_count": 77,
   "metadata": {},
   "outputs": [],
   "source": [
    "def evaluate_solution(geometry, discretization, cell, coord):\n",
    "    x, y = fem.map_to_reference_coordinates(cell, coord)\n",
    "    coeff = dict()\n",
    "    for linear_index, vert in enumerate(cell.vertices):\n",
    "        if vert not in geometry.dirichlet_vertices:\n",
    "            coeff[vert] = fem.lagrange_2d(discretization.nodes_x, linear_index, np.array([x,y]))\n",
    "        else:\n",
    "            coeff[vert] = dirichlet_val(cell.center, cell.size, cell.size)*fem.lagrange_2d(discretization.nodes_x, linear_index, np.array([x,y]))\n",
    "    return coeff\n",
    "\n",
    "def make_interpolation(geometry, level_coarse):\n",
    "    level_fine = level_coarse + 1\n",
    "    discretization = fem.Discretization(geometry, level_fine)\n",
    "\n",
    "    number_of_vertices_coarse = geometry.number_of_vertices_per_level[level_coarse]\n",
    "    number_of_vertices_fine = geometry.number_of_vertices_per_level[level_fine]\n",
    "    \n",
    "    interpolation = sp.lil_matrix((number_of_vertices_fine, number_of_vertices_coarse), dtype=np.float64)\n",
    "    \n",
    "    for cell in geometry.grid.dfs(only_level=level_fine):\n",
    "        for vert in cell.vertices:\n",
    "            data_idx_fine = geometry.vertex_idx_to_data_idx[vert]\n",
    "            coords = geometry.vertices_idx_to_coords[vert]\n",
    "            coeffs = evaluate_solution(geometry, discretization, cell.parent, np.array(coords))\n",
    "            for key, val in coeffs.items():\n",
    "                data_idx_coarse = geometry.vertex_idx_to_data_idx[key]\n",
    "                interpolation[data_idx_fine, data_idx_coarse] = val\n",
    "    return interpolation.tocsc()\n",
    "\n",
    "def make_restriction(geometry, level_coarse):\n",
    "    return make_interpolation(geometry, level_coarse).T"
   ]
  },
  {
   "cell_type": "markdown",
   "metadata": {},
   "source": [
    "And finally we store all the needed operators. Here, instead of the original stiffness matrix A we want to store $I-dt A$, as needed for the Euler step."
   ]
  },
  {
   "cell_type": "code",
   "execution_count": 78,
   "metadata": {},
   "outputs": [],
   "source": [
    "class MultigridStorage:\n",
    "    def __init__(self, discretization, level_min, level_max, stiffness):\n",
    "        self.level_min = level_min\n",
    "        self.level_max = level_max\n",
    "        \n",
    "        self.geometry = discretization.geometry\n",
    "        geometry = discretization.geometry\n",
    "        \n",
    "        number_of_levels = (level_max - level_min + 1)\n",
    "        self.coarse_to_fine = [None] * number_of_levels\n",
    "        self.fine_to_coarse = [None] * number_of_levels\n",
    "        self.stiffness = [None] * number_of_levels\n",
    "        self.stiffness_matrix = [None] * number_of_levels\n",
    "        self.stiffness_matrix[-1] = stiffness\n",
    "        self.stiffness[-1] = sp.diags(np.ones(stiffness.shape[0])) + dt*stiffness\n",
    "  \n",
    "        for level_index in range(number_of_levels - 1, -1, -1):\n",
    "            level = level_index + level_min\n",
    "            self.coarse_to_fine[level_index] = \\\n",
    "                make_interpolation(geometry, level_coarse=level-1)\n",
    "            self.fine_to_coarse[level_index] = make_restriction(geometry, level_coarse=level-1)\n",
    "            if level != level_max:\n",
    "                interpolation = make_interpolation(geometry, level_coarse=level)\n",
    "                restriction = make_restriction(geometry, level_coarse=level)\n",
    "                self.stiffness_matrix[level_index] = \\\n",
    "                   restriction * self.stiffness_matrix[level_index+1] * interpolation\n",
    "                self.stiffness[level_index] = sp.diags(np.ones(self.stiffness_matrix[level_index].shape[0])) + dt*self.stiffness_matrix[level_index]\n",
    "                discretization_coarse = fem.Discretization(geometry, level=level, eval_k=discretization.eval_k)\n",
    "\n",
    "storage = MultigridStorage(discretization, level_min=1, level_max=level, stiffness=stiffness)"
   ]
  },
  {
   "cell_type": "markdown",
   "metadata": {},
   "source": [
    "Now that we have these we can define the v-cycle as before."
   ]
  },
  {
   "cell_type": "code",
   "execution_count": 79,
   "metadata": {},
   "outputs": [],
   "source": [
    "def v_cycle(storage, level, rhs, unknowns):\n",
    "    level_index = level - storage.level_min\n",
    "    restriction = storage.fine_to_coarse[level_index]\n",
    "    stiffness = storage.stiffness[level_index]\n",
    "    unknowns = relaxation(A=stiffness, b=rhs, x0=unknowns, max_iter=5)\n",
    "    if level != storage.level_min:\n",
    "        residual_fine = (rhs - stiffness @ unknowns)\n",
    "        rhs_coarse = restriction @ residual_fine\n",
    "        unknowns_coarse = np.zeros(storage.geometry.number_of_vertices_per_level[level_index])\n",
    "\n",
    "        update = v_cycle(storage, level-1, rhs=rhs_coarse, unknowns=unknowns_coarse)\n",
    "        # Correct\n",
    "        unknowns += storage.coarse_to_fine[level_index] @ update\n",
    "    unknowns = relaxation(A=stiffness, b=rhs, x0=unknowns, max_iter=5)\n",
    "    return unknowns\n",
    "\n",
    "def compute_residual(A, x, b):\n",
    "    return np.linalg.norm(A @ x - b)\n",
    "\n",
    "def multigrid(storage, level, rhs):\n",
    "    # Zero initial guess\n",
    "    unknowns = np.zeros(geometry.number_of_vertices_per_level[storage.level_max])\n",
    "    for cycle in range(100):\n",
    "        if compute_residual(storage.stiffness[level-1],unknowns,rhs) < 1e-6:\n",
    "            print(\"Finished after  multigrid V-cycles.\", cycle)\n",
    "            break\n",
    "        unknowns = v_cycle(storage, level=storage.level_max, rhs=rhs, unknowns=unknowns) \n",
    "    return unknowns"
   ]
  },
  {
   "cell_type": "markdown",
   "metadata": {},
   "source": [
    "Now instead of using an LU decomposition we can apply the multigrid solver. In each step we solve\n",
    "$$(I-dt A) u^\\text{new} = u^\\text{old}.$$\n",
    "The right hand side is given by the previous solution and the discretised operator has been defined above."
   ]
  },
  {
   "cell_type": "code",
   "execution_count": 80,
   "metadata": {},
   "outputs": [],
   "source": [
    "def implicit_euler(u0, dt, stiffness, T=10):\n",
    "    t = 0\n",
    "    us = [u0]\n",
    "    ts = [t]\n",
    "    u = u0\n",
    "    while t < T:\n",
    "        u = multigrid(storage, level=storage.level_max, rhs=u)\n",
    "        t += dt\n",
    "        us.append(u)\n",
    "        ts.append(t)\n",
    "        if np.linalg.norm(us[-2] - us[-1], np.inf) < 1e-8:\n",
    "            print(\"Equilibrium reached at t=\",t)\n",
    "            break\n",
    "    return ts, us"
   ]
  },
  {
   "cell_type": "code",
   "execution_count": 82,
   "metadata": {},
   "outputs": [
    {
     "name": "stdout",
     "output_type": "stream",
     "text": [
      "Finished after  multigrid V-cycles. 8\n",
      "Finished after  multigrid V-cycles. 9\n",
      "Finished after  multigrid V-cycles. 9\n",
      "Finished after  multigrid V-cycles. 9\n",
      "Finished after  multigrid V-cycles. 10\n"
     ]
    },
    {
     "data": {
      "image/png": "[encoded data removed]",
      "text/plain": [
       "<Figure size 1296x576 with 4 Axes>"
      ]
     },
     "metadata": {
      "needs_background": "light"
     },
     "output_type": "display_data"
    }
   ],
   "source": [
    "dt = 2.0\n",
    "\n",
    "u0 = discretization.setup_initial()\n",
    "ts, us = implicit_euler(u0, dt, stiffness, T=10.0)\n",
    "geo.plot_solution(geometry=geometry, discretization=discretization, dirichlet_val=dirichlet_val, sol=us[-1], level=level)"
   ]
  },
  {
   "cell_type": "code",
   "execution_count": null,
   "metadata": {},
   "outputs": [],
   "source": []
  }
 ],
 "metadata": {
  "kernelspec": {
   "display_name": "Python 3",
   "language": "python",
   "name": "python3"
  },
  "language_info": {
   "codemirror_mode": {
    "name": "ipython",
    "version": 3
   },
   "file_extension": ".py",
   "mimetype": "text/x-python",
   "name": "python",
   "nbconvert_exporter": "python",
   "pygments_lexer": "ipython3",
   "version": "3.8.5"
  }
 },
 "nbformat": 4,
 "nbformat_minor": 4
}
