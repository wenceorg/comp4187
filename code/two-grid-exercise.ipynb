{
 "cells": [
  {
   "cell_type": "markdown",
   "metadata": {},
   "source": [
    "# Fourier Analysis for Two-Grid Iteration\n",
    "We stick to the Poisson example:\n",
    "$$\n",
    "-\\cfrac{d^2 u}{d x^2}=f(x),~~~x\\in(0,1),\\\\\n",
    "u(0)=u(1)  =  0.\n",
    "$$\n",
    "\n",
    "This time, however, we want to consider the more general case of having $N+1$ grid points, where $N:=2K$, and a resulting mesh size $h:=1/N$.\n",
    "A step towards multigrid methods consists in the  two-grid method based on coarse-grid correction.\n",
    "In this particular case, we formulate the algorithm as follows:\n",
    "\n",
    "1. After some iteration steps using a smoother (like Jacobi), compute residual $r^{old}:= b^h-A_h u^h$. The residual and the error $e^{old}$ fulfill the residual equation $r^{old}=A e^{old}$.\n",
    "2. Restrict the residual to the coarse grid using an operator $R$. This yields a (residual-like) vector $r^{2h}$ on the coarse grid. The coarse grid is assumed to have $K+1$ points.\n",
    "3.  Solve the residual equation $A_{2h} e^{2h} = r^{2h}$ on the coarse grid. $A_{2h}$ corresponds to the coarse-grained system that resembles $A_h$ on the fine grid.\n",
    "4. Interpolate the resulting coarse-grid approximation of the error $e^{2h}$ to the fine grid and correct the fine-grid error $e^{new}:=e^{old}-Pe^{2h}$. The interpolation operator shall be denoted by $P$.\n",
    "\n",
    "Furthermore, we define vectors $q_h^m$ with components $(q_{h}^m)_i:=\\sin(m\\pi h i)$. With respect to the fine grid, we have a low frequency if $m<N/2$, and a high frequency if $m\\geq N/2$.\n",
    "\n",
    "In the following, we want to step through the Fourier analysis for this method and investigate the convergence behaviour, considering one cycle of this two-grid algorithm."
   ]
  },
  {
   "cell_type": "markdown",
   "metadata": {},
   "source": [
    "1. Give a closed expression for $e^{new}$ which only depends on $e^{old}$ and not on $e^{2h}$ anymore. You may use the restriction operator $R$, the interpolation (or prolongation) operator $P$, the coarse grid operator $A_{2h}$ and the fine grid operator $A_h$ from above."
   ]
  },
  {
   "cell_type": "code",
   "execution_count": null,
   "metadata": {},
   "outputs": [],
   "source": []
  },
  {
   "cell_type": "markdown",
   "metadata": {},
   "source": [
    "2. Define the restriction operator $R$ by injection (as in the lecture).\n",
    "\n",
    "   Show that the restriction of any error frequency $R q_h^m$ yields a low frequency, that is\n",
    "   $$ R q_h^m = \\begin{cases} q_{2h}^m & \\text{if }  m<N/2\\\\\n",
    "    -q_{2h}^{N-m} & \\text{if }  m\\geq N/2.\\end{cases}.$$"
   ]
  },
  {
   "cell_type": "code",
   "execution_count": null,
   "metadata": {},
   "outputs": [],
   "source": []
  },
  {
   "cell_type": "markdown",
   "metadata": {},
   "source": [
    "3. For interpolation, we want to use the linear interpolation scheme:\n",
    "$$(P q^m_{2h})_i = \\begin{cases}\n",
    "      \\underbrace{(q^m_{2h})_{i/2}}_{\\text{$=(q^m_h)_i$}} & \\text{ for } & i=2,4,\\ldots,N-2 \\\\\n",
    "      && \\\\\n",
    "    \\frac{1}{2} \\bigl( \\underbrace{(q^m_{2h})_{(i-1)/2}}_{\\text{$=(q^m_h)_{i-1}$}} +\n",
    "                                \\underbrace{(q^m_{2h})_{(i+1)/2}}_{\\text{$=(q^m_h)_{i+1}$}} \\bigr)\n",
    "                                 &  \\text{ for } & i=1,3,\\ldots,N-1. \\end{cases}.$$\n",
    "                                 \n",
    "Use the function definitions\n",
    "$$\n",
    "\\frac{1}{2} (\\cos(\\pi i)+1)  =   \\begin{cases}\n",
    " 1 & \\text{ for } i=2,4,\\ldots,N-2 \\\\\n",
    " 0 & \\text{ for } i=1,3,\\ldots,N-1 \n",
    "\\end{cases} , $$\n",
    "and\n",
    "$$\\frac{1}{2} (-\\cos(\\pi i)+1)  =  \\begin{cases}\n",
    " 0 & \\text{ for } i=2,4,\\ldots,N-2 \\\\\n",
    " 1 & \\text{ for } i=1,3,\\ldots,N-1 \n",
    "\\end{cases},$$\n",
    "and\n",
    "$$(q^{N-m}_h)_i=\\sin((N-m) \\pi h i)  =  \\underbrace{\\sin(N \\pi h i)}_{=0}\n",
    "                                \\cos(m \\pi h i) - \\cos(N \\pi h i) \\underbrace{ \\sin(m \\pi h i) }_{= (q^m_h)_i } = -\\cos(\\pi i)(q^m_h)_i$$\n",
    "                                \n",
    "to re-write the interpolated coarse grid frequency $P q_{2h}^m$ as\n",
    "$$ P q_{2h}^m = a_m\\cdot q_h^m + b_m\\cdot q_h^{N-m}$$\n",
    "with (frequency-dependent) constants $a_m, b_m$.\n",
    "\n",
    "What does the latter equation tell us about the frequency of the interpolated function $P q_{2h}^m$?"
   ]
  },
  {
   "cell_type": "code",
   "execution_count": null,
   "metadata": {},
   "outputs": [],
   "source": []
  },
  {
   "cell_type": "markdown",
   "metadata": {},
   "source": [
    "4. Putting the results from prolongation and restriction together, we can derive by further computation (not discussed in the exercise) that\n",
    "$$ PA_{2h}^{-1}RA_hq_h^m=\\begin{cases}\n",
    "                               q^m_h \n",
    "                                -\\frac{(1-\\cos(m \\pi h))^2}{\\sin(m \\pi h)^2} q^{N-m}_h & \n",
    "                               \\text{ if } & m < \\frac{N}{2} \\\\[0.5ex]\n",
    "                               -\\frac{(1-\\cos(m \\pi h))^2}{\\sin(m \\pi h)^2} q^{N-m}_h +\n",
    "                               q^m_h \n",
    "                               & \\text{ if } & m \\ge \\frac{N}{2} \\end{cases}$$\n",
    "$$ \\Rightarrow PA_{2h}^{-1}RA_hq_h^m = q^m_h - \\frac{(1-\\cos(m \\pi h))^2}{\\sin(m \\pi h)^2} q^{N-m}_h$$\n",
    "\n",
    "Assume that the initial error is a linear combination of two sines: $$e^{old} = x_1q_h^m + x_2q_h^{N-m}$$ with $m<N/2$. Express $PA_{2h}^{-1}RA_he^{old}$ in terms of $q_h^m$ and $q_h^{N-m}$,\n",
    "a $2\\times 2$-matrix $B_m$, and the vector $(x_1,x_2)^T$. That is, find a representation\n",
    "$$PA_{2h}^{-1}RA_he^{old} = \\begin{pmatrix}\n",
    " q_h^m & q_h^{N-m}\n",
    "\\end{pmatrix}\n",
    "B_m\n",
    "\\begin{pmatrix}\n",
    " x_1 \\\\ x_2\n",
    "\\end{pmatrix}.$$\n",
    "\n",
    "With this in mind, we can simplify the analysis with a change of basis. Let\n",
    "$$ Q = (q_h^1, q_h^{N-1}, q_h^2, q_h^{N-2}, \\dots, q_h^{K-1}, q_h^{N-K+1}, q_h^{K}).$$\n",
    "\n",
    "As this matrix is invertible, we can find a vector $x^{new}$ with $e^{new} = Qx^{new}$ and a vector $x^{old}$ with $e^{old} = Qx^{old}$.\n",
    "\n",
    "The entry $(x^{old})_i$ can be interpreted as the weight of the frequency in the i-th column of $Q$.\n",
    "If we left-multiply $e^{new}$ with $Q^{-1}$ we have\n",
    "$$ x^{new} = Q^{-1}e^{new} = Q^{-1}e^{old} - Q^{-1}PA_{2h}^{-1}RA_he^{old} = x^{old} - C x^{old} = (I - C) x^{old}.$$\n",
    "\n",
    "That is, we have found a frequency mapping $x \\rightarrow (I-C)x$ and may directly work with the error's frequency components instead with the error itself.\n",
    "\n",
    "Determine the matrix $C$. ($C$ will be block diagonal and consist of blocks $B_m$.)"
   ]
  },
  {
   "cell_type": "code",
   "execution_count": null,
   "metadata": {},
   "outputs": [],
   "source": []
  },
  {
   "cell_type": "markdown",
   "metadata": {},
   "source": [
    "5. In order to remove high frequency errors, we apply two Jacobi iterations before ( pre-smoothing) and after (post-smoothing) the coarse-grid correction scheme. Following the Fourier analysis from the finite-difference exercise for the basis vectors $(q_h^m)_{m=1,\\dots,N-1}$, one weighted Jacobi iteration ($\\omega=1/2$) corresponds to the update rule (again working on the error's frequency components with the same ordering as in 3.\n",
    "$$\n",
    "x \\mapsto M_f x.\n",
    "$$\n",
    "I.e. for the frequency pair $m$ and $N-m$ we obtain\n",
    "$$\\left(\\begin{array}{c}\n",
    "x_1\\\\\n",
    "x_2\\end{array}\\right) \\rightarrow \\left(\\begin{array}{c c}\n",
    "\\frac{1}{2}\\left(1+\\cos(m\\pi h)\\right) & 0\\\\\n",
    "0 & \\frac{1}{2}\\left(1-\\cos(m\\pi h)\\right)\n",
    "\\end{array}\\right)\n",
    "\\left(\\begin{array}{c}\n",
    "x_1\\\\\n",
    "x_2\\end{array}\\right)$$\n",
    "Because $C$ is a block diagonal matrix and $M_f$ is diagonal, we may limit the discussion to frequency pairs. The general results then follow easily.</br>\n",
    "Give an estimate for the maximum eigenvalue of the overall solver operations, that is pre-smoothing $\\rightarrow$ restriction $\\rightarrow$ coarse-grid correction $\\rightarrow$ interpolation $\\rightarrow $post-smoothing."
   ]
  },
  {
   "cell_type": "code",
   "execution_count": null,
   "metadata": {},
   "outputs": [],
   "source": []
  }
 ],
 "metadata": {
  "kernelspec": {
   "display_name": "Python 3.7.5 64-bit",
   "language": "python",
   "name": "python37564bit9ce5fe6963414f60b8b443ce5210da97"
  },
  "language_info": {
   "codemirror_mode": {
    "name": "ipython",
    "version": 3
   },
   "file_extension": ".py",
   "mimetype": "text/x-python",
   "name": "python",
   "nbconvert_exporter": "python",
   "pygments_lexer": "ipython3",
   "version": "3.8.5"
  }
 },
 "nbformat": 4,
 "nbformat_minor": 4
}
